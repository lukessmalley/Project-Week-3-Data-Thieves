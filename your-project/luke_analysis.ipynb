{
 "cells": [
  {
   "cell_type": "code",
   "execution_count": 30,
   "metadata": {},
   "outputs": [],
   "source": [
    "import pandas as pd\n",
    "import re"
   ]
  },
  {
   "cell_type": "code",
   "execution_count": 67,
   "metadata": {
    "scrolled": true
   },
   "outputs": [],
   "source": [
    "songs = pd.read_csv(r'C:\\Users\\lukes\\ironhack_labs\\Week_3\\Project\\Project-Week-3-Data-Thieves\\your-project\\song_analysis.csv')"
   ]
  },
  {
   "cell_type": "code",
   "execution_count": 68,
   "metadata": {},
   "outputs": [
    {
     "data": {
      "text/plain": [
       "[\"god's plan\",\n",
       " 'sad!',\n",
       " 'rockstar',\n",
       " 'psycho',\n",
       " 'in my feelings',\n",
       " 'better now',\n",
       " 'i like it',\n",
       " 'one kiss',\n",
       " 'idgaf',\n",
       " 'friends',\n",
       " 'havana',\n",
       " 'lucid dreams',\n",
       " 'nice for what',\n",
       " 'girls like you',\n",
       " 'the middle',\n",
       " 'all the stars',\n",
       " 'no tears left to cry',\n",
       " 'x',\n",
       " 'moonlight',\n",
       " 'look alive',\n",
       " 'these days',\n",
       " 'te bot? - remix',\n",
       " 'mine',\n",
       " 'youngblood',\n",
       " 'new rules',\n",
       " 'shape of you',\n",
       " 'love lies',\n",
       " 'meant to be',\n",
       " 'jocelyn flores',\n",
       " 'perfect',\n",
       " 'taste',\n",
       " 'solo',\n",
       " 'i fall apart',\n",
       " 'nevermind',\n",
       " '?chame la culpa',\n",
       " 'eastside',\n",
       " 'never be the same',\n",
       " 'wolves',\n",
       " 'changes',\n",
       " 'in my mind',\n",
       " 'river',\n",
       " 'dura',\n",
       " 'sicko mode',\n",
       " 'thunder',\n",
       " 'me niego',\n",
       " 'jackie chan',\n",
       " 'finesse  [feat. cardi b]',\n",
       " 'back to you - from 13 reasons why ? season 2 soundtrack',\n",
       " 'let you down',\n",
       " 'call out my name',\n",
       " 'ric flair drip',\n",
       " 'happier',\n",
       " 'too good at goodbyes',\n",
       " 'freaky friday',\n",
       " 'believer',\n",
       " 'fefe',\n",
       " 'rise',\n",
       " 'body',\n",
       " 'xo tour llif3',\n",
       " 'sin pijama',\n",
       " '2002',\n",
       " 'nonstop',\n",
       " 'fuck love',\n",
       " 'in my blood',\n",
       " 'silence',\n",
       " 'god is a woman',\n",
       " 'd?jala que vuelva',\n",
       " 'flames',\n",
       " 'what lovers do',\n",
       " 'taki taki',\n",
       " 'let me go',\n",
       " 'feel it still',\n",
       " 'pray for me',\n",
       " 'walk it talk it',\n",
       " 'him & i',\n",
       " 'candy paint',\n",
       " 'congratulations',\n",
       " '1, 2, 2003',\n",
       " 'criminal',\n",
       " 'plug walk',\n",
       " 'lovely',\n",
       " 'stir fry',\n",
       " 'humble.',\n",
       " 'vaina loca',\n",
       " 'perfect duet',\n",
       " 'coraz?n',\n",
       " 'young dumb & broke',\n",
       " 's?guelo bailando',\n",
       " 'downtown',\n",
       " 'bella',\n",
       " 'promises',\n",
       " 'yes indeed',\n",
       " 'i like me better',\n",
       " 'this is me',\n",
       " 'everybody dies in their nightmares',\n",
       " 'rewrite the stars',\n",
       " 'i miss you',\n",
       " 'no brainer',\n",
       " 'dusk till dawn - radio edit',\n",
       " 'be alright']"
      ]
     },
     "execution_count": 68,
     "metadata": {},
     "output_type": "execute_result"
    }
   ],
   "source": [
    "#sorted(list(summer_songs['track_name'].unique()))\n",
    "lst = [i for i in songs['track_name']]\n",
    "lst"
   ]
  },
  {
   "cell_type": "code",
   "execution_count": 69,
   "metadata": {},
   "outputs": [],
   "source": [
    "songs['track_name'] = [re.sub(r'\\([^)]*\\)', '', i).lower().strip() for i in songs['track_name']]\n",
    "songs['track_name']\n",
    "songs.to_csv(r'C:\\Users\\lukes\\ironhack_labs\\Week_3\\Project\\Project-Week-3-Data-Thieves\\your-project\\song_analysis_cleaned.csv')\n"
   ]
  }
 ],
 "metadata": {
  "kernelspec": {
   "display_name": "Python 3",
   "language": "python",
   "name": "python3"
  },
  "language_info": {
   "codemirror_mode": {
    "name": "ipython",
    "version": 3
   },
   "file_extension": ".py",
   "mimetype": "text/x-python",
   "name": "python",
   "nbconvert_exporter": "python",
   "pygments_lexer": "ipython3",
   "version": "3.7.3"
  }
 },
 "nbformat": 4,
 "nbformat_minor": 2
}
